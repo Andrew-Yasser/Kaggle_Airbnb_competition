{
 "cells": [
  {
   "cell_type": "code",
   "execution_count": 1,
   "id": "2f423813",
   "metadata": {
    "_cell_guid": "b1076dfc-b9ad-4769-8c92-a6c4dae69d19",
    "_uuid": "8f2839f25d086af736a60e9eeb907d3b93b6e0e5",
    "execution": {
     "iopub.execute_input": "2021-10-12T12:03:57.944972Z",
     "iopub.status.busy": "2021-10-12T12:03:57.944290Z",
     "iopub.status.idle": "2021-10-12T12:03:58.968948Z",
     "shell.execute_reply": "2021-10-12T12:03:58.968195Z",
     "shell.execute_reply.started": "2021-10-12T12:00:01.334324Z"
    },
    "papermill": {
     "duration": 1.083742,
     "end_time": "2021-10-12T12:03:58.969115",
     "exception": false,
     "start_time": "2021-10-12T12:03:57.885373",
     "status": "completed"
    },
    "tags": []
   },
   "outputs": [
    {
     "name": "stdout",
     "output_type": "stream",
     "text": [
      "/kaggle/input/airbnb-recruiting-new-user-bookings/sample_submission_NDF.csv.zip\n",
      "/kaggle/input/airbnb-recruiting-new-user-bookings/age_gender_bkts.csv.zip\n",
      "/kaggle/input/airbnb-recruiting-new-user-bookings/test_users.csv.zip\n",
      "/kaggle/input/airbnb-recruiting-new-user-bookings/countries.csv.zip\n",
      "/kaggle/input/airbnb-recruiting-new-user-bookings/sessions.csv.zip\n",
      "/kaggle/input/airbnb-recruiting-new-user-bookings/train_users_2.csv.zip\n"
     ]
    }
   ],
   "source": [
    "# This Python 3 environment comes with many helpful analytics libraries installed\n",
    "# It is defined by the kaggle/python Docker image: https://github.com/kaggle/docker-python\n",
    "# For example, here's several helpful packages to load\n",
    "\n",
    "import numpy as np # linear algebra\n",
    "import pandas as pd # data processing, CSV file I/O (e.g. pd.read_csv)\n",
    "import seaborn as sns\n",
    "import matplotlib.pyplot as plt\n",
    "# Input data files are available in the read-only \"../input/\" directory\n",
    "# For example, running this (by clicking run or pressing Shift+Enter) will list all files under the input directory\n",
    "\n",
    "import os\n",
    "for dirname, _, filenames in os.walk('/kaggle/input'):\n",
    "    for filename in filenames:\n",
    "        print(os.path.join(dirname, filename))\n",
    "\n",
    "# You can write up to 20GB to the current directory (/kaggle/working/) that gets preserved as output when you create a version using \"Save & Run All\" \n",
    "# You can also write temporary files to /kaggle/temp/, but they won't be saved outside of the current session"
   ]
  },
  {
   "cell_type": "markdown",
   "id": "3274457b",
   "metadata": {
    "papermill": {
     "duration": 0.045365,
     "end_time": "2021-10-12T12:03:59.061030",
     "exception": false,
     "start_time": "2021-10-12T12:03:59.015665",
     "status": "completed"
    },
    "tags": []
   },
   "source": [
    " **Step1: Identifying the problem**\n",
    "\n",
    "- <b>Objective: </b>In this challenge, we have a list of users along with information of their activity on website such as date of account created, time when user first active on the website, the country for which user has done booking etc. We also got have some personal information about each user. Our task is to build a machine learning model which will predict which country a new user's first booking destination will be.\n",
    "\n",
    "\n",
    "- <b>Data: </b>Following are the features present in training dataset:\n",
    "    - id: user id\n",
    "    - date_account_created: the date of account creation\n",
    "    - timestamp_first_active: timestamp of the first activity, note that it can be earlier than date_account_created or date_first_booking because a user can search before signing up\n",
    "    - date_first_booking: date of first booking\n",
    "    - gender\n",
    "    - age\n",
    "    - signup_method: whether user has signup from website or by using facebook, gmail etc.\n",
    "    - signup_flow: the page a user came to signup up from\n",
    "    - language: international language preference\n",
    "    - affiliate_channel: what kind of paid marketing\n",
    "    - affiliate_provider: where the marketing is e.g. google, craigslist, other\n",
    "    - first_affiliate_tracked: whats the first marketing the user interacted with before the signing up\n",
    "    - signup_app\n",
    "    - first_device_type\n",
    "    - first_browser\n",
    "    - country_destination: this is the target variable. There are 12 possible outcomes of the destination country: 'US', 'FR', 'CA', 'GB', 'ES', 'IT', 'PT', 'NL','DE', 'AU', 'NDF' (no destination found), and 'other'. \n",
    "    <br>Note: \n",
    "        - 'other' means there was a booking, but is to a country not included in the list\n",
    "        - 'NDF' means there wasn't destination found = no booking.\n",
    "\n",
    "\n",
    "- There other 3 files given along with train and test dataset.\n",
    "    1. sessions.csv - this file contain all web sessions log for each user\n",
    "    2. countries.csv - summary statistics of destination countries in this dataset and their locations\n",
    "    3. age_gender_bkts.csv - summary statistics of users' age group, gender, country of destination"
   ]
  },
  {
   "cell_type": "markdown",
   "id": "72951090",
   "metadata": {
    "papermill": {
     "duration": 0.044638,
     "end_time": "2021-10-12T12:03:59.150623",
     "exception": false,
     "start_time": "2021-10-12T12:03:59.105985",
     "status": "completed"
    },
    "tags": []
   },
   "source": [
    "Reading the data given"
   ]
  },
  {
   "cell_type": "code",
   "execution_count": 2,
   "id": "216a46be",
   "metadata": {
    "execution": {
     "iopub.execute_input": "2021-10-12T12:03:59.245862Z",
     "iopub.status.busy": "2021-10-12T12:03:59.245008Z",
     "iopub.status.idle": "2021-10-12T12:04:00.380422Z",
     "shell.execute_reply": "2021-10-12T12:04:00.379897Z",
     "shell.execute_reply.started": "2021-10-12T12:00:01.346879Z"
    },
    "papermill": {
     "duration": 1.185355,
     "end_time": "2021-10-12T12:04:00.380621",
     "exception": false,
     "start_time": "2021-10-12T12:03:59.195266",
     "status": "completed"
    },
    "tags": []
   },
   "outputs": [],
   "source": [
    "train = pd.read_csv(\"/kaggle/input/airbnb-recruiting-new-user-bookings/train_users_2.csv.zip\")\n",
    "test = pd.read_csv(\"/kaggle/input/airbnb-recruiting-new-user-bookings/test_users.csv.zip\")\n",
    "countries=pd.read_csv('/kaggle/input/airbnb-recruiting-new-user-bookings/countries.csv.zip')\n",
    "sample=pd.read_csv('/kaggle/input/airbnb-recruiting-new-user-bookings/sample_submission_NDF.csv.zip')"
   ]
  },
  {
   "cell_type": "markdown",
   "id": "b9d69d2d",
   "metadata": {
    "papermill": {
     "duration": 0.045004,
     "end_time": "2021-10-12T12:04:00.469948",
     "exception": false,
     "start_time": "2021-10-12T12:04:00.424944",
     "status": "completed"
    },
    "tags": []
   },
   "source": [
    "**Step 2: Data Exploration**"
   ]
  },
  {
   "cell_type": "code",
   "execution_count": 3,
   "id": "51d32162",
   "metadata": {
    "execution": {
     "iopub.execute_input": "2021-10-12T12:04:00.562187Z",
     "iopub.status.busy": "2021-10-12T12:04:00.561586Z",
     "iopub.status.idle": "2021-10-12T12:04:00.586826Z",
     "shell.execute_reply": "2021-10-12T12:04:00.587298Z",
     "shell.execute_reply.started": "2021-10-12T12:00:02.062631Z"
    },
    "papermill": {
     "duration": 0.073118,
     "end_time": "2021-10-12T12:04:00.587469",
     "exception": false,
     "start_time": "2021-10-12T12:04:00.514351",
     "status": "completed"
    },
    "tags": []
   },
   "outputs": [
    {
     "data": {
      "text/html": [
       "<div>\n",
       "<style scoped>\n",
       "    .dataframe tbody tr th:only-of-type {\n",
       "        vertical-align: middle;\n",
       "    }\n",
       "\n",
       "    .dataframe tbody tr th {\n",
       "        vertical-align: top;\n",
       "    }\n",
       "\n",
       "    .dataframe thead th {\n",
       "        text-align: right;\n",
       "    }\n",
       "</style>\n",
       "<table border=\"1\" class=\"dataframe\">\n",
       "  <thead>\n",
       "    <tr style=\"text-align: right;\">\n",
       "      <th></th>\n",
       "      <th>id</th>\n",
       "      <th>date_account_created</th>\n",
       "      <th>timestamp_first_active</th>\n",
       "      <th>date_first_booking</th>\n",
       "      <th>gender</th>\n",
       "      <th>age</th>\n",
       "      <th>signup_method</th>\n",
       "      <th>signup_flow</th>\n",
       "      <th>language</th>\n",
       "      <th>affiliate_channel</th>\n",
       "      <th>affiliate_provider</th>\n",
       "      <th>first_affiliate_tracked</th>\n",
       "      <th>signup_app</th>\n",
       "      <th>first_device_type</th>\n",
       "      <th>first_browser</th>\n",
       "      <th>country_destination</th>\n",
       "    </tr>\n",
       "  </thead>\n",
       "  <tbody>\n",
       "    <tr>\n",
       "      <th>0</th>\n",
       "      <td>gxn3p5htnn</td>\n",
       "      <td>2010-06-28</td>\n",
       "      <td>20090319043255</td>\n",
       "      <td>NaN</td>\n",
       "      <td>-unknown-</td>\n",
       "      <td>NaN</td>\n",
       "      <td>facebook</td>\n",
       "      <td>0</td>\n",
       "      <td>en</td>\n",
       "      <td>direct</td>\n",
       "      <td>direct</td>\n",
       "      <td>untracked</td>\n",
       "      <td>Web</td>\n",
       "      <td>Mac Desktop</td>\n",
       "      <td>Chrome</td>\n",
       "      <td>NDF</td>\n",
       "    </tr>\n",
       "    <tr>\n",
       "      <th>1</th>\n",
       "      <td>820tgsjxq7</td>\n",
       "      <td>2011-05-25</td>\n",
       "      <td>20090523174809</td>\n",
       "      <td>NaN</td>\n",
       "      <td>MALE</td>\n",
       "      <td>38.0</td>\n",
       "      <td>facebook</td>\n",
       "      <td>0</td>\n",
       "      <td>en</td>\n",
       "      <td>seo</td>\n",
       "      <td>google</td>\n",
       "      <td>untracked</td>\n",
       "      <td>Web</td>\n",
       "      <td>Mac Desktop</td>\n",
       "      <td>Chrome</td>\n",
       "      <td>NDF</td>\n",
       "    </tr>\n",
       "    <tr>\n",
       "      <th>2</th>\n",
       "      <td>4ft3gnwmtx</td>\n",
       "      <td>2010-09-28</td>\n",
       "      <td>20090609231247</td>\n",
       "      <td>2010-08-02</td>\n",
       "      <td>FEMALE</td>\n",
       "      <td>56.0</td>\n",
       "      <td>basic</td>\n",
       "      <td>3</td>\n",
       "      <td>en</td>\n",
       "      <td>direct</td>\n",
       "      <td>direct</td>\n",
       "      <td>untracked</td>\n",
       "      <td>Web</td>\n",
       "      <td>Windows Desktop</td>\n",
       "      <td>IE</td>\n",
       "      <td>US</td>\n",
       "    </tr>\n",
       "    <tr>\n",
       "      <th>3</th>\n",
       "      <td>bjjt8pjhuk</td>\n",
       "      <td>2011-12-05</td>\n",
       "      <td>20091031060129</td>\n",
       "      <td>2012-09-08</td>\n",
       "      <td>FEMALE</td>\n",
       "      <td>42.0</td>\n",
       "      <td>facebook</td>\n",
       "      <td>0</td>\n",
       "      <td>en</td>\n",
       "      <td>direct</td>\n",
       "      <td>direct</td>\n",
       "      <td>untracked</td>\n",
       "      <td>Web</td>\n",
       "      <td>Mac Desktop</td>\n",
       "      <td>Firefox</td>\n",
       "      <td>other</td>\n",
       "    </tr>\n",
       "    <tr>\n",
       "      <th>4</th>\n",
       "      <td>87mebub9p4</td>\n",
       "      <td>2010-09-14</td>\n",
       "      <td>20091208061105</td>\n",
       "      <td>2010-02-18</td>\n",
       "      <td>-unknown-</td>\n",
       "      <td>41.0</td>\n",
       "      <td>basic</td>\n",
       "      <td>0</td>\n",
       "      <td>en</td>\n",
       "      <td>direct</td>\n",
       "      <td>direct</td>\n",
       "      <td>untracked</td>\n",
       "      <td>Web</td>\n",
       "      <td>Mac Desktop</td>\n",
       "      <td>Chrome</td>\n",
       "      <td>US</td>\n",
       "    </tr>\n",
       "  </tbody>\n",
       "</table>\n",
       "</div>"
      ],
      "text/plain": [
       "           id date_account_created  timestamp_first_active date_first_booking  \\\n",
       "0  gxn3p5htnn           2010-06-28          20090319043255                NaN   \n",
       "1  820tgsjxq7           2011-05-25          20090523174809                NaN   \n",
       "2  4ft3gnwmtx           2010-09-28          20090609231247         2010-08-02   \n",
       "3  bjjt8pjhuk           2011-12-05          20091031060129         2012-09-08   \n",
       "4  87mebub9p4           2010-09-14          20091208061105         2010-02-18   \n",
       "\n",
       "      gender   age signup_method  signup_flow language affiliate_channel  \\\n",
       "0  -unknown-   NaN      facebook            0       en            direct   \n",
       "1       MALE  38.0      facebook            0       en               seo   \n",
       "2     FEMALE  56.0         basic            3       en            direct   \n",
       "3     FEMALE  42.0      facebook            0       en            direct   \n",
       "4  -unknown-  41.0         basic            0       en            direct   \n",
       "\n",
       "  affiliate_provider first_affiliate_tracked signup_app first_device_type  \\\n",
       "0             direct               untracked        Web       Mac Desktop   \n",
       "1             google               untracked        Web       Mac Desktop   \n",
       "2             direct               untracked        Web   Windows Desktop   \n",
       "3             direct               untracked        Web       Mac Desktop   \n",
       "4             direct               untracked        Web       Mac Desktop   \n",
       "\n",
       "  first_browser country_destination  \n",
       "0        Chrome                 NDF  \n",
       "1        Chrome                 NDF  \n",
       "2            IE                  US  \n",
       "3       Firefox               other  \n",
       "4        Chrome                  US  "
      ]
     },
     "execution_count": 3,
     "metadata": {},
     "output_type": "execute_result"
    }
   ],
   "source": [
    "test.head()\n",
    "train.head()"
   ]
  },
  {
   "cell_type": "code",
   "execution_count": 4,
   "id": "a108d804",
   "metadata": {
    "execution": {
     "iopub.execute_input": "2021-10-12T12:04:00.687295Z",
     "iopub.status.busy": "2021-10-12T12:04:00.686620Z",
     "iopub.status.idle": "2021-10-12T12:04:00.726972Z",
     "shell.execute_reply": "2021-10-12T12:04:00.727497Z",
     "shell.execute_reply.started": "2021-10-12T12:00:02.084322Z"
    },
    "papermill": {
     "duration": 0.095037,
     "end_time": "2021-10-12T12:04:00.727681",
     "exception": false,
     "start_time": "2021-10-12T12:04:00.632644",
     "status": "completed"
    },
    "tags": []
   },
   "outputs": [
    {
     "data": {
      "text/html": [
       "<div>\n",
       "<style scoped>\n",
       "    .dataframe tbody tr th:only-of-type {\n",
       "        vertical-align: middle;\n",
       "    }\n",
       "\n",
       "    .dataframe tbody tr th {\n",
       "        vertical-align: top;\n",
       "    }\n",
       "\n",
       "    .dataframe thead th {\n",
       "        text-align: right;\n",
       "    }\n",
       "</style>\n",
       "<table border=\"1\" class=\"dataframe\">\n",
       "  <thead>\n",
       "    <tr style=\"text-align: right;\">\n",
       "      <th></th>\n",
       "      <th>timestamp_first_active</th>\n",
       "      <th>age</th>\n",
       "      <th>signup_flow</th>\n",
       "    </tr>\n",
       "  </thead>\n",
       "  <tbody>\n",
       "    <tr>\n",
       "      <th>count</th>\n",
       "      <td>2.134510e+05</td>\n",
       "      <td>125461.000000</td>\n",
       "      <td>213451.000000</td>\n",
       "    </tr>\n",
       "    <tr>\n",
       "      <th>mean</th>\n",
       "      <td>2.013085e+13</td>\n",
       "      <td>49.668335</td>\n",
       "      <td>3.267387</td>\n",
       "    </tr>\n",
       "    <tr>\n",
       "      <th>std</th>\n",
       "      <td>9.253717e+09</td>\n",
       "      <td>155.666612</td>\n",
       "      <td>7.637707</td>\n",
       "    </tr>\n",
       "    <tr>\n",
       "      <th>min</th>\n",
       "      <td>2.009032e+13</td>\n",
       "      <td>1.000000</td>\n",
       "      <td>0.000000</td>\n",
       "    </tr>\n",
       "    <tr>\n",
       "      <th>25%</th>\n",
       "      <td>2.012123e+13</td>\n",
       "      <td>28.000000</td>\n",
       "      <td>0.000000</td>\n",
       "    </tr>\n",
       "    <tr>\n",
       "      <th>50%</th>\n",
       "      <td>2.013091e+13</td>\n",
       "      <td>34.000000</td>\n",
       "      <td>0.000000</td>\n",
       "    </tr>\n",
       "    <tr>\n",
       "      <th>75%</th>\n",
       "      <td>2.014031e+13</td>\n",
       "      <td>43.000000</td>\n",
       "      <td>0.000000</td>\n",
       "    </tr>\n",
       "    <tr>\n",
       "      <th>max</th>\n",
       "      <td>2.014063e+13</td>\n",
       "      <td>2014.000000</td>\n",
       "      <td>25.000000</td>\n",
       "    </tr>\n",
       "  </tbody>\n",
       "</table>\n",
       "</div>"
      ],
      "text/plain": [
       "       timestamp_first_active            age    signup_flow\n",
       "count            2.134510e+05  125461.000000  213451.000000\n",
       "mean             2.013085e+13      49.668335       3.267387\n",
       "std              9.253717e+09     155.666612       7.637707\n",
       "min              2.009032e+13       1.000000       0.000000\n",
       "25%              2.012123e+13      28.000000       0.000000\n",
       "50%              2.013091e+13      34.000000       0.000000\n",
       "75%              2.014031e+13      43.000000       0.000000\n",
       "max              2.014063e+13    2014.000000      25.000000"
      ]
     },
     "execution_count": 4,
     "metadata": {},
     "output_type": "execute_result"
    }
   ],
   "source": [
    "train.describe()"
   ]
  },
  {
   "cell_type": "code",
   "execution_count": 5,
   "id": "29bf7131",
   "metadata": {
    "execution": {
     "iopub.execute_input": "2021-10-12T12:04:00.823954Z",
     "iopub.status.busy": "2021-10-12T12:04:00.822920Z",
     "iopub.status.idle": "2021-10-12T12:04:01.131938Z",
     "shell.execute_reply": "2021-10-12T12:04:01.132935Z",
     "shell.execute_reply.started": "2021-10-12T12:00:02.132714Z"
    },
    "papermill": {
     "duration": 0.359845,
     "end_time": "2021-10-12T12:04:01.133205",
     "exception": false,
     "start_time": "2021-10-12T12:04:00.773360",
     "status": "completed"
    },
    "tags": []
   },
   "outputs": [
    {
     "name": "stdout",
     "output_type": "stream",
     "text": [
      "<class 'pandas.core.frame.DataFrame'>\n",
      "RangeIndex: 213451 entries, 0 to 213450\n",
      "Data columns (total 16 columns):\n",
      " #   Column                   Non-Null Count   Dtype  \n",
      "---  ------                   --------------   -----  \n",
      " 0   id                       213451 non-null  object \n",
      " 1   date_account_created     213451 non-null  object \n",
      " 2   timestamp_first_active   213451 non-null  int64  \n",
      " 3   date_first_booking       88908 non-null   object \n",
      " 4   gender                   213451 non-null  object \n",
      " 5   age                      125461 non-null  float64\n",
      " 6   signup_method            213451 non-null  object \n",
      " 7   signup_flow              213451 non-null  int64  \n",
      " 8   language                 213451 non-null  object \n",
      " 9   affiliate_channel        213451 non-null  object \n",
      " 10  affiliate_provider       213451 non-null  object \n",
      " 11  first_affiliate_tracked  207386 non-null  object \n",
      " 12  signup_app               213451 non-null  object \n",
      " 13  first_device_type        213451 non-null  object \n",
      " 14  first_browser            213451 non-null  object \n",
      " 15  country_destination      213451 non-null  object \n",
      "dtypes: float64(1), int64(2), object(13)\n",
      "memory usage: 26.1+ MB\n"
     ]
    }
   ],
   "source": [
    "train.info()"
   ]
  },
  {
   "cell_type": "code",
   "execution_count": 6,
   "id": "d90e7fb3",
   "metadata": {
    "execution": {
     "iopub.execute_input": "2021-10-12T12:04:01.229139Z",
     "iopub.status.busy": "2021-10-12T12:04:01.228197Z",
     "iopub.status.idle": "2021-10-12T12:04:01.251912Z",
     "shell.execute_reply": "2021-10-12T12:04:01.251282Z",
     "shell.execute_reply.started": "2021-10-12T12:00:02.278806Z"
    },
    "papermill": {
     "duration": 0.072751,
     "end_time": "2021-10-12T12:04:01.252063",
     "exception": false,
     "start_time": "2021-10-12T12:04:01.179312",
     "status": "completed"
    },
    "tags": []
   },
   "outputs": [
    {
     "data": {
      "text/html": [
       "<div>\n",
       "<style scoped>\n",
       "    .dataframe tbody tr th:only-of-type {\n",
       "        vertical-align: middle;\n",
       "    }\n",
       "\n",
       "    .dataframe tbody tr th {\n",
       "        vertical-align: top;\n",
       "    }\n",
       "\n",
       "    .dataframe thead th {\n",
       "        text-align: right;\n",
       "    }\n",
       "</style>\n",
       "<table border=\"1\" class=\"dataframe\">\n",
       "  <thead>\n",
       "    <tr style=\"text-align: right;\">\n",
       "      <th></th>\n",
       "      <th>lat_destination</th>\n",
       "      <th>lng_destination</th>\n",
       "      <th>distance_km</th>\n",
       "      <th>destination_km2</th>\n",
       "      <th>language_levenshtein_distance</th>\n",
       "    </tr>\n",
       "  </thead>\n",
       "  <tbody>\n",
       "    <tr>\n",
       "      <th>count</th>\n",
       "      <td>10.000000</td>\n",
       "      <td>10.000000</td>\n",
       "      <td>10.000000</td>\n",
       "      <td>1.000000e+01</td>\n",
       "      <td>10.00000</td>\n",
       "    </tr>\n",
       "    <tr>\n",
       "      <th>mean</th>\n",
       "      <td>39.799398</td>\n",
       "      <td>-4.262446</td>\n",
       "      <td>7181.897800</td>\n",
       "      <td>2.973734e+06</td>\n",
       "      <td>50.49900</td>\n",
       "    </tr>\n",
       "    <tr>\n",
       "      <th>std</th>\n",
       "      <td>24.739112</td>\n",
       "      <td>63.700585</td>\n",
       "      <td>3941.141734</td>\n",
       "      <td>4.329619e+06</td>\n",
       "      <td>44.54169</td>\n",
       "    </tr>\n",
       "    <tr>\n",
       "      <th>min</th>\n",
       "      <td>-26.853388</td>\n",
       "      <td>-96.818146</td>\n",
       "      <td>0.000000</td>\n",
       "      <td>4.154300e+04</td>\n",
       "      <td>0.00000</td>\n",
       "    </tr>\n",
       "    <tr>\n",
       "      <th>25%</th>\n",
       "      <td>39.639090</td>\n",
       "      <td>-6.737559</td>\n",
       "      <td>7001.557600</td>\n",
       "      <td>2.580425e+05</td>\n",
       "      <td>0.00000</td>\n",
       "    </tr>\n",
       "    <tr>\n",
       "      <th>50%</th>\n",
       "      <td>44.053092</td>\n",
       "      <td>-0.139014</td>\n",
       "      <td>7603.632650</td>\n",
       "      <td>4.311960e+05</td>\n",
       "      <td>67.91500</td>\n",
       "    </tr>\n",
       "    <tr>\n",
       "      <th>75%</th>\n",
       "      <td>51.891219</td>\n",
       "      <td>9.163386</td>\n",
       "      <td>7842.357000</td>\n",
       "      <td>5.966865e+06</td>\n",
       "      <td>91.39500</td>\n",
       "    </tr>\n",
       "    <tr>\n",
       "      <th>max</th>\n",
       "      <td>62.393303</td>\n",
       "      <td>133.275160</td>\n",
       "      <td>15297.744000</td>\n",
       "      <td>9.984670e+06</td>\n",
       "      <td>95.45000</td>\n",
       "    </tr>\n",
       "  </tbody>\n",
       "</table>\n",
       "</div>"
      ],
      "text/plain": [
       "       lat_destination  lng_destination   distance_km  destination_km2  \\\n",
       "count        10.000000        10.000000     10.000000     1.000000e+01   \n",
       "mean         39.799398        -4.262446   7181.897800     2.973734e+06   \n",
       "std          24.739112        63.700585   3941.141734     4.329619e+06   \n",
       "min         -26.853388       -96.818146      0.000000     4.154300e+04   \n",
       "25%          39.639090        -6.737559   7001.557600     2.580425e+05   \n",
       "50%          44.053092        -0.139014   7603.632650     4.311960e+05   \n",
       "75%          51.891219         9.163386   7842.357000     5.966865e+06   \n",
       "max          62.393303       133.275160  15297.744000     9.984670e+06   \n",
       "\n",
       "       language_levenshtein_distance  \n",
       "count                       10.00000  \n",
       "mean                        50.49900  \n",
       "std                         44.54169  \n",
       "min                          0.00000  \n",
       "25%                          0.00000  \n",
       "50%                         67.91500  \n",
       "75%                         91.39500  \n",
       "max                         95.45000  "
      ]
     },
     "execution_count": 6,
     "metadata": {},
     "output_type": "execute_result"
    }
   ],
   "source": [
    "countries.describe()"
   ]
  },
  {
   "cell_type": "code",
   "execution_count": 7,
   "id": "d432c4f5",
   "metadata": {
    "execution": {
     "iopub.execute_input": "2021-10-12T12:04:01.348509Z",
     "iopub.status.busy": "2021-10-12T12:04:01.347900Z",
     "iopub.status.idle": "2021-10-12T12:04:01.360773Z",
     "shell.execute_reply": "2021-10-12T12:04:01.361269Z",
     "shell.execute_reply.started": "2021-10-12T12:00:02.305928Z"
    },
    "papermill": {
     "duration": 0.063083,
     "end_time": "2021-10-12T12:04:01.361449",
     "exception": false,
     "start_time": "2021-10-12T12:04:01.298366",
     "status": "completed"
    },
    "tags": []
   },
   "outputs": [
    {
     "data": {
      "text/html": [
       "<div>\n",
       "<style scoped>\n",
       "    .dataframe tbody tr th:only-of-type {\n",
       "        vertical-align: middle;\n",
       "    }\n",
       "\n",
       "    .dataframe tbody tr th {\n",
       "        vertical-align: top;\n",
       "    }\n",
       "\n",
       "    .dataframe thead th {\n",
       "        text-align: right;\n",
       "    }\n",
       "</style>\n",
       "<table border=\"1\" class=\"dataframe\">\n",
       "  <thead>\n",
       "    <tr style=\"text-align: right;\">\n",
       "      <th></th>\n",
       "      <th>country_destination</th>\n",
       "      <th>lat_destination</th>\n",
       "      <th>lng_destination</th>\n",
       "      <th>distance_km</th>\n",
       "      <th>destination_km2</th>\n",
       "      <th>destination_language</th>\n",
       "      <th>language_levenshtein_distance</th>\n",
       "    </tr>\n",
       "  </thead>\n",
       "  <tbody>\n",
       "    <tr>\n",
       "      <th>0</th>\n",
       "      <td>AU</td>\n",
       "      <td>-26.853388</td>\n",
       "      <td>133.275160</td>\n",
       "      <td>15297.7440</td>\n",
       "      <td>7741220.0</td>\n",
       "      <td>eng</td>\n",
       "      <td>0.00</td>\n",
       "    </tr>\n",
       "    <tr>\n",
       "      <th>1</th>\n",
       "      <td>CA</td>\n",
       "      <td>62.393303</td>\n",
       "      <td>-96.818146</td>\n",
       "      <td>2828.1333</td>\n",
       "      <td>9984670.0</td>\n",
       "      <td>eng</td>\n",
       "      <td>0.00</td>\n",
       "    </tr>\n",
       "    <tr>\n",
       "      <th>2</th>\n",
       "      <td>DE</td>\n",
       "      <td>51.165707</td>\n",
       "      <td>10.452764</td>\n",
       "      <td>7879.5680</td>\n",
       "      <td>357022.0</td>\n",
       "      <td>deu</td>\n",
       "      <td>72.61</td>\n",
       "    </tr>\n",
       "    <tr>\n",
       "      <th>3</th>\n",
       "      <td>ES</td>\n",
       "      <td>39.896027</td>\n",
       "      <td>-2.487694</td>\n",
       "      <td>7730.7240</td>\n",
       "      <td>505370.0</td>\n",
       "      <td>spa</td>\n",
       "      <td>92.25</td>\n",
       "    </tr>\n",
       "    <tr>\n",
       "      <th>4</th>\n",
       "      <td>FR</td>\n",
       "      <td>46.232193</td>\n",
       "      <td>2.209667</td>\n",
       "      <td>7682.9450</td>\n",
       "      <td>643801.0</td>\n",
       "      <td>fra</td>\n",
       "      <td>92.06</td>\n",
       "    </tr>\n",
       "  </tbody>\n",
       "</table>\n",
       "</div>"
      ],
      "text/plain": [
       "  country_destination  lat_destination  lng_destination  distance_km  \\\n",
       "0                  AU       -26.853388       133.275160   15297.7440   \n",
       "1                  CA        62.393303       -96.818146    2828.1333   \n",
       "2                  DE        51.165707        10.452764    7879.5680   \n",
       "3                  ES        39.896027        -2.487694    7730.7240   \n",
       "4                  FR        46.232193         2.209667    7682.9450   \n",
       "\n",
       "   destination_km2 destination_language   language_levenshtein_distance  \n",
       "0        7741220.0                   eng                           0.00  \n",
       "1        9984670.0                   eng                           0.00  \n",
       "2         357022.0                   deu                          72.61  \n",
       "3         505370.0                   spa                          92.25  \n",
       "4         643801.0                   fra                          92.06  "
      ]
     },
     "execution_count": 7,
     "metadata": {},
     "output_type": "execute_result"
    }
   ],
   "source": [
    "countries.head()"
   ]
  },
  {
   "cell_type": "code",
   "execution_count": 8,
   "id": "e63a14ec",
   "metadata": {
    "execution": {
     "iopub.execute_input": "2021-10-12T12:04:01.459575Z",
     "iopub.status.busy": "2021-10-12T12:04:01.458920Z",
     "iopub.status.idle": "2021-10-12T12:04:01.528206Z",
     "shell.execute_reply": "2021-10-12T12:04:01.528717Z",
     "shell.execute_reply.started": "2021-10-12T12:00:02.322750Z"
    },
    "papermill": {
     "duration": 0.1207,
     "end_time": "2021-10-12T12:04:01.528916",
     "exception": false,
     "start_time": "2021-10-12T12:04:01.408216",
     "status": "completed"
    },
    "tags": []
   },
   "outputs": [
    {
     "data": {
      "text/html": [
       "<div>\n",
       "<style scoped>\n",
       "    .dataframe tbody tr th:only-of-type {\n",
       "        vertical-align: middle;\n",
       "    }\n",
       "\n",
       "    .dataframe tbody tr th {\n",
       "        vertical-align: top;\n",
       "    }\n",
       "\n",
       "    .dataframe thead th {\n",
       "        text-align: right;\n",
       "    }\n",
       "</style>\n",
       "<table border=\"1\" class=\"dataframe\">\n",
       "  <thead>\n",
       "    <tr style=\"text-align: right;\">\n",
       "      <th></th>\n",
       "      <th>id</th>\n",
       "      <th>country</th>\n",
       "    </tr>\n",
       "  </thead>\n",
       "  <tbody>\n",
       "    <tr>\n",
       "      <th>count</th>\n",
       "      <td>62096</td>\n",
       "      <td>62096</td>\n",
       "    </tr>\n",
       "    <tr>\n",
       "      <th>unique</th>\n",
       "      <td>62096</td>\n",
       "      <td>1</td>\n",
       "    </tr>\n",
       "    <tr>\n",
       "      <th>top</th>\n",
       "      <td>5uwns89zht</td>\n",
       "      <td>NDF</td>\n",
       "    </tr>\n",
       "    <tr>\n",
       "      <th>freq</th>\n",
       "      <td>1</td>\n",
       "      <td>62096</td>\n",
       "    </tr>\n",
       "  </tbody>\n",
       "</table>\n",
       "</div>"
      ],
      "text/plain": [
       "                id country\n",
       "count        62096   62096\n",
       "unique       62096       1\n",
       "top     5uwns89zht     NDF\n",
       "freq             1   62096"
      ]
     },
     "execution_count": 8,
     "metadata": {},
     "output_type": "execute_result"
    }
   ],
   "source": [
    "sample.describe()"
   ]
  },
  {
   "cell_type": "code",
   "execution_count": 9,
   "id": "5f5e5d20",
   "metadata": {
    "execution": {
     "iopub.execute_input": "2021-10-12T12:04:01.648454Z",
     "iopub.status.busy": "2021-10-12T12:04:01.641809Z",
     "iopub.status.idle": "2021-10-12T12:04:01.651722Z",
     "shell.execute_reply": "2021-10-12T12:04:01.651110Z",
     "shell.execute_reply.started": "2021-10-12T12:00:02.379947Z"
    },
    "papermill": {
     "duration": 0.075374,
     "end_time": "2021-10-12T12:04:01.651865",
     "exception": false,
     "start_time": "2021-10-12T12:04:01.576491",
     "status": "completed"
    },
    "tags": []
   },
   "outputs": [
    {
     "name": "stdout",
     "output_type": "stream",
     "text": [
      "<class 'pandas.core.frame.DataFrame'>\n",
      "RangeIndex: 62096 entries, 0 to 62095\n",
      "Data columns (total 2 columns):\n",
      " #   Column   Non-Null Count  Dtype \n",
      "---  ------   --------------  ----- \n",
      " 0   id       62096 non-null  object\n",
      " 1   country  62096 non-null  object\n",
      "dtypes: object(2)\n",
      "memory usage: 970.4+ KB\n"
     ]
    }
   ],
   "source": [
    "sample.info()"
   ]
  },
  {
   "cell_type": "code",
   "execution_count": 10,
   "id": "c3a7ab63",
   "metadata": {
    "execution": {
     "iopub.execute_input": "2021-10-12T12:04:01.786467Z",
     "iopub.status.busy": "2021-10-12T12:04:01.785780Z",
     "iopub.status.idle": "2021-10-12T12:04:01.789361Z",
     "shell.execute_reply": "2021-10-12T12:04:01.788754Z",
     "shell.execute_reply.started": "2021-10-12T12:00:02.401567Z"
    },
    "papermill": {
     "duration": 0.089981,
     "end_time": "2021-10-12T12:04:01.789494",
     "exception": false,
     "start_time": "2021-10-12T12:04:01.699513",
     "status": "completed"
    },
    "tags": []
   },
   "outputs": [
    {
     "name": "stdout",
     "output_type": "stream",
     "text": [
      "NDF      124543\n",
      "US        62376\n",
      "other     10094\n",
      "FR         5023\n",
      "IT         2835\n",
      "GB         2324\n",
      "ES         2249\n",
      "CA         1428\n",
      "DE         1061\n",
      "NL          762\n",
      "AU          539\n",
      "PT          217\n",
      "dtype: int64\n"
     ]
    }
   ],
   "source": [
    "print (pd.value_counts(train['country_destination'].values))"
   ]
  },
  {
   "cell_type": "code",
   "execution_count": 11,
   "id": "cb9c00c4",
   "metadata": {
    "execution": {
     "iopub.execute_input": "2021-10-12T12:04:01.925683Z",
     "iopub.status.busy": "2021-10-12T12:04:01.925015Z",
     "iopub.status.idle": "2021-10-12T12:04:01.929900Z",
     "shell.execute_reply": "2021-10-12T12:04:01.929337Z",
     "shell.execute_reply.started": "2021-10-12T12:00:02.423162Z"
    },
    "papermill": {
     "duration": 0.092751,
     "end_time": "2021-10-12T12:04:01.930040",
     "exception": false,
     "start_time": "2021-10-12T12:04:01.837289",
     "status": "completed"
    },
    "tags": []
   },
   "outputs": [
    {
     "name": "stdout",
     "output_type": "stream",
     "text": [
      "-unknown-    95688\n",
      "FEMALE       63041\n",
      "MALE         54440\n",
      "OTHER          282\n",
      "dtype: int64\n"
     ]
    }
   ],
   "source": [
    "print (pd.value_counts(train['gender'].values))"
   ]
  },
  {
   "cell_type": "code",
   "execution_count": 12,
   "id": "200e0f9c",
   "metadata": {
    "execution": {
     "iopub.execute_input": "2021-10-12T12:04:02.067353Z",
     "iopub.status.busy": "2021-10-12T12:04:02.066688Z",
     "iopub.status.idle": "2021-10-12T12:04:02.069375Z",
     "shell.execute_reply": "2021-10-12T12:04:02.069858Z",
     "shell.execute_reply.started": "2021-10-12T12:00:02.449333Z"
    },
    "papermill": {
     "duration": 0.091949,
     "end_time": "2021-10-12T12:04:02.070022",
     "exception": false,
     "start_time": "2021-10-12T12:04:01.978073",
     "status": "completed"
    },
    "tags": []
   },
   "outputs": [
    {
     "name": "stdout",
     "output_type": "stream",
     "text": [
      "en    206314\n",
      "zh      1632\n",
      "fr      1172\n",
      "es       915\n",
      "ko       747\n",
      "de       732\n",
      "it       514\n",
      "ru       389\n",
      "pt       240\n",
      "ja       225\n",
      "sv       122\n",
      "nl        97\n",
      "tr        64\n",
      "da        58\n",
      "pl        54\n",
      "cs        32\n",
      "no        30\n",
      "el        24\n",
      "th        24\n",
      "id        22\n",
      "hu        18\n",
      "fi        14\n",
      "ca         5\n",
      "is         5\n",
      "hr         2\n",
      "dtype: int64\n"
     ]
    }
   ],
   "source": [
    "print (pd.value_counts(train['language'].values))"
   ]
  },
  {
   "cell_type": "markdown",
   "id": "e07ebf11",
   "metadata": {
    "papermill": {
     "duration": 0.048622,
     "end_time": "2021-10-12T12:04:02.167191",
     "exception": false,
     "start_time": "2021-10-12T12:04:02.118569",
     "status": "completed"
    },
    "tags": []
   },
   "source": [
    "**some data cleaning**"
   ]
  },
  {
   "cell_type": "code",
   "execution_count": 13,
   "id": "8d03b489",
   "metadata": {
    "execution": {
     "iopub.execute_input": "2021-10-12T12:04:02.285215Z",
     "iopub.status.busy": "2021-10-12T12:04:02.284555Z",
     "iopub.status.idle": "2021-10-12T12:04:03.610151Z",
     "shell.execute_reply": "2021-10-12T12:04:03.609546Z",
     "shell.execute_reply.started": "2021-10-12T12:00:02.475458Z"
    },
    "papermill": {
     "duration": 1.394583,
     "end_time": "2021-10-12T12:04:03.610298",
     "exception": false,
     "start_time": "2021-10-12T12:04:02.215715",
     "status": "completed"
    },
    "tags": []
   },
   "outputs": [
    {
     "data": {
      "text/html": [
       "<div>\n",
       "<style scoped>\n",
       "    .dataframe tbody tr th:only-of-type {\n",
       "        vertical-align: middle;\n",
       "    }\n",
       "\n",
       "    .dataframe tbody tr th {\n",
       "        vertical-align: top;\n",
       "    }\n",
       "\n",
       "    .dataframe thead th {\n",
       "        text-align: right;\n",
       "    }\n",
       "</style>\n",
       "<table border=\"1\" class=\"dataframe\">\n",
       "  <thead>\n",
       "    <tr style=\"text-align: right;\">\n",
       "      <th></th>\n",
       "      <th>id</th>\n",
       "      <th>date_account_created</th>\n",
       "      <th>timestamp_first_active</th>\n",
       "      <th>date_first_booking</th>\n",
       "      <th>gender</th>\n",
       "      <th>age</th>\n",
       "      <th>signup_method</th>\n",
       "      <th>signup_flow</th>\n",
       "      <th>language</th>\n",
       "      <th>affiliate_channel</th>\n",
       "      <th>affiliate_provider</th>\n",
       "      <th>first_affiliate_tracked</th>\n",
       "      <th>signup_app</th>\n",
       "      <th>first_device_type</th>\n",
       "      <th>first_browser</th>\n",
       "      <th>country_destination</th>\n",
       "    </tr>\n",
       "  </thead>\n",
       "  <tbody>\n",
       "    <tr>\n",
       "      <th>0</th>\n",
       "      <td>gxn3p5htnn</td>\n",
       "      <td>2010-06-28</td>\n",
       "      <td>2009-03-19 04:32:55</td>\n",
       "      <td>NaT</td>\n",
       "      <td>-unknown-</td>\n",
       "      <td>NaN</td>\n",
       "      <td>facebook</td>\n",
       "      <td>0</td>\n",
       "      <td>en</td>\n",
       "      <td>direct</td>\n",
       "      <td>direct</td>\n",
       "      <td>untracked</td>\n",
       "      <td>Web</td>\n",
       "      <td>Mac Desktop</td>\n",
       "      <td>Chrome</td>\n",
       "      <td>NDF</td>\n",
       "    </tr>\n",
       "    <tr>\n",
       "      <th>1</th>\n",
       "      <td>820tgsjxq7</td>\n",
       "      <td>2011-05-25</td>\n",
       "      <td>2009-05-23 17:48:09</td>\n",
       "      <td>NaT</td>\n",
       "      <td>MALE</td>\n",
       "      <td>38.0</td>\n",
       "      <td>facebook</td>\n",
       "      <td>0</td>\n",
       "      <td>en</td>\n",
       "      <td>seo</td>\n",
       "      <td>google</td>\n",
       "      <td>untracked</td>\n",
       "      <td>Web</td>\n",
       "      <td>Mac Desktop</td>\n",
       "      <td>Chrome</td>\n",
       "      <td>NDF</td>\n",
       "    </tr>\n",
       "    <tr>\n",
       "      <th>2</th>\n",
       "      <td>4ft3gnwmtx</td>\n",
       "      <td>2010-09-28</td>\n",
       "      <td>2009-06-09 23:12:47</td>\n",
       "      <td>2010-08-02</td>\n",
       "      <td>FEMALE</td>\n",
       "      <td>56.0</td>\n",
       "      <td>basic</td>\n",
       "      <td>3</td>\n",
       "      <td>en</td>\n",
       "      <td>direct</td>\n",
       "      <td>direct</td>\n",
       "      <td>untracked</td>\n",
       "      <td>Web</td>\n",
       "      <td>Windows Desktop</td>\n",
       "      <td>IE</td>\n",
       "      <td>US</td>\n",
       "    </tr>\n",
       "    <tr>\n",
       "      <th>3</th>\n",
       "      <td>bjjt8pjhuk</td>\n",
       "      <td>2011-12-05</td>\n",
       "      <td>2009-10-31 06:01:29</td>\n",
       "      <td>2012-09-08</td>\n",
       "      <td>FEMALE</td>\n",
       "      <td>42.0</td>\n",
       "      <td>facebook</td>\n",
       "      <td>0</td>\n",
       "      <td>en</td>\n",
       "      <td>direct</td>\n",
       "      <td>direct</td>\n",
       "      <td>untracked</td>\n",
       "      <td>Web</td>\n",
       "      <td>Mac Desktop</td>\n",
       "      <td>Firefox</td>\n",
       "      <td>other</td>\n",
       "    </tr>\n",
       "    <tr>\n",
       "      <th>4</th>\n",
       "      <td>87mebub9p4</td>\n",
       "      <td>2010-09-14</td>\n",
       "      <td>2009-12-08 06:11:05</td>\n",
       "      <td>2010-02-18</td>\n",
       "      <td>-unknown-</td>\n",
       "      <td>41.0</td>\n",
       "      <td>basic</td>\n",
       "      <td>0</td>\n",
       "      <td>en</td>\n",
       "      <td>direct</td>\n",
       "      <td>direct</td>\n",
       "      <td>untracked</td>\n",
       "      <td>Web</td>\n",
       "      <td>Mac Desktop</td>\n",
       "      <td>Chrome</td>\n",
       "      <td>US</td>\n",
       "    </tr>\n",
       "  </tbody>\n",
       "</table>\n",
       "</div>"
      ],
      "text/plain": [
       "           id date_account_created timestamp_first_active date_first_booking  \\\n",
       "0  gxn3p5htnn           2010-06-28    2009-03-19 04:32:55                NaT   \n",
       "1  820tgsjxq7           2011-05-25    2009-05-23 17:48:09                NaT   \n",
       "2  4ft3gnwmtx           2010-09-28    2009-06-09 23:12:47         2010-08-02   \n",
       "3  bjjt8pjhuk           2011-12-05    2009-10-31 06:01:29         2012-09-08   \n",
       "4  87mebub9p4           2010-09-14    2009-12-08 06:11:05         2010-02-18   \n",
       "\n",
       "      gender   age signup_method  signup_flow language affiliate_channel  \\\n",
       "0  -unknown-   NaN      facebook            0       en            direct   \n",
       "1       MALE  38.0      facebook            0       en               seo   \n",
       "2     FEMALE  56.0         basic            3       en            direct   \n",
       "3     FEMALE  42.0      facebook            0       en            direct   \n",
       "4  -unknown-  41.0         basic            0       en            direct   \n",
       "\n",
       "  affiliate_provider first_affiliate_tracked signup_app first_device_type  \\\n",
       "0             direct               untracked        Web       Mac Desktop   \n",
       "1             google               untracked        Web       Mac Desktop   \n",
       "2             direct               untracked        Web   Windows Desktop   \n",
       "3             direct               untracked        Web       Mac Desktop   \n",
       "4             direct               untracked        Web       Mac Desktop   \n",
       "\n",
       "  first_browser country_destination  \n",
       "0        Chrome                 NDF  \n",
       "1        Chrome                 NDF  \n",
       "2            IE                  US  \n",
       "3       Firefox               other  \n",
       "4        Chrome                  US  "
      ]
     },
     "execution_count": 13,
     "metadata": {},
     "output_type": "execute_result"
    }
   ],
   "source": [
    "train[\"date_account_created\"] = pd.to_datetime( train[\"date_account_created\"])\n",
    "train[\"date_first_booking\"] = pd.to_datetime( train[\"date_first_booking\"])\n",
    "train[\"timestamp_first_active\"] = pd.to_datetime(train[\"timestamp_first_active\"], format=\"%Y%m%d%H%M%S\")\n",
    "train.head()"
   ]
  },
  {
   "cell_type": "code",
   "execution_count": 14,
   "id": "06477cb1",
   "metadata": {
    "execution": {
     "iopub.execute_input": "2021-10-12T12:04:03.716414Z",
     "iopub.status.busy": "2021-10-12T12:04:03.715446Z",
     "iopub.status.idle": "2021-10-12T12:04:03.909940Z",
     "shell.execute_reply": "2021-10-12T12:04:03.909029Z",
     "shell.execute_reply.started": "2021-10-12T12:00:03.221010Z"
    },
    "papermill": {
     "duration": 0.250729,
     "end_time": "2021-10-12T12:04:03.910087",
     "exception": false,
     "start_time": "2021-10-12T12:04:03.659358",
     "status": "completed"
    },
    "tags": []
   },
   "outputs": [
    {
     "data": {
      "image/png": "[encoded data removed]",
      "text/plain": [
       "<Figure size 432x288 with 1 Axes>"
      ]
     },
     "metadata": {
      "needs_background": "light"
     },
     "output_type": "display_data"
    }
   ],
   "source": [
    "ax = sns.boxplot(x=train[\"age\"])"
   ]
  },
  {
   "cell_type": "code",
   "execution_count": 15,
   "id": "a8c539d0",
   "metadata": {
    "execution": {
     "iopub.execute_input": "2021-10-12T12:04:04.015395Z",
     "iopub.status.busy": "2021-10-12T12:04:04.014434Z",
     "iopub.status.idle": "2021-10-12T12:04:04.195087Z",
     "shell.execute_reply": "2021-10-12T12:04:04.195604Z",
     "shell.execute_reply.started": "2021-10-12T12:00:03.427951Z"
    },
    "papermill": {
     "duration": 0.235591,
     "end_time": "2021-10-12T12:04:04.195779",
     "exception": false,
     "start_time": "2021-10-12T12:04:03.960188",
     "status": "completed"
    },
    "tags": []
   },
   "outputs": [
    {
     "data": {
      "image/png": "[encoded data removed]",
      "text/plain": [
       "<Figure size 432x288 with 1 Axes>"
      ]
     },
     "metadata": {
      "needs_background": "light"
     },
     "output_type": "display_data"
    }
   ],
   "source": [
    "train = train[np.abs(train['age']- train ['age'].mean()) <= (3*train['age'].std())]\n",
    "ax = sns.boxplot(x=train[\"age\"])"
   ]
  },
  {
   "cell_type": "code",
   "execution_count": 16,
   "id": "a4833144",
   "metadata": {
    "execution": {
     "iopub.execute_input": "2021-10-12T12:04:04.303558Z",
     "iopub.status.busy": "2021-10-12T12:04:04.299956Z",
     "iopub.status.idle": "2021-10-12T12:04:04.475959Z",
     "shell.execute_reply": "2021-10-12T12:04:04.475107Z",
     "shell.execute_reply.started": "2021-10-12T12:00:03.645075Z"
    },
    "papermill": {
     "duration": 0.230068,
     "end_time": "2021-10-12T12:04:04.476384",
     "exception": false,
     "start_time": "2021-10-12T12:04:04.246316",
     "status": "completed"
    },
    "tags": []
   },
   "outputs": [
    {
     "data": {
      "image/png": "[encoded data removed]",
      "text/plain": [
       "<Figure size 432x288 with 1 Axes>"
      ]
     },
     "metadata": {
      "needs_background": "light"
     },
     "output_type": "display_data"
    }
   ],
   "source": [
    "index = train[(train['age'] >= 70)|(train['age'] <= 5)].index\n",
    "train.drop(index, inplace=True)\n",
    "Mean_age = train['age'].mean()\n",
    "train['age'] = train['age'].fillna(Mean_age)\n",
    "ax = sns.boxplot(x=train[\"age\"])"
   ]
  },
  {
   "cell_type": "markdown",
   "id": "ec0c4cf8",
   "metadata": {
    "papermill": {
     "duration": 0.050835,
     "end_time": "2021-10-12T12:04:04.589225",
     "exception": false,
     "start_time": "2021-10-12T12:04:04.538390",
     "status": "completed"
    },
    "tags": []
   },
   "source": [
    "**Data visualiztaion**"
   ]
  },
  {
   "cell_type": "markdown",
   "id": "0ee5b79a",
   "metadata": {
    "papermill": {
     "duration": 0.050942,
     "end_time": "2021-10-12T12:04:04.690952",
     "exception": false,
     "start_time": "2021-10-12T12:04:04.640010",
     "status": "completed"
    },
    "tags": []
   },
   "source": [
    "see if gender have a good relation with sign up method used"
   ]
  },
  {
   "cell_type": "code",
   "execution_count": 17,
   "id": "9c1a0137",
   "metadata": {
    "execution": {
     "iopub.execute_input": "2021-10-12T12:04:04.810949Z",
     "iopub.status.busy": "2021-10-12T12:04:04.810259Z",
     "iopub.status.idle": "2021-10-12T12:04:08.019747Z",
     "shell.execute_reply": "2021-10-12T12:04:08.020230Z",
     "shell.execute_reply.started": "2021-10-12T12:00:03.848868Z"
    },
    "papermill": {
     "duration": 3.278624,
     "end_time": "2021-10-12T12:04:08.020399",
     "exception": false,
     "start_time": "2021-10-12T12:04:04.741775",
     "status": "completed"
    },
    "tags": []
   },
   "outputs": [
    {
     "data": {
      "image/png": "[encoded data removed]",
      "text/plain": [
       "<Figure size 1440x360 with 4 Axes>"
      ]
     },
     "metadata": {
      "needs_background": "light"
     },
     "output_type": "display_data"
    }
   ],
   "source": [
    "sns.catplot(x='signup_method', col='gender', kind='count', data=train);"
   ]
  },
  {
   "cell_type": "code",
   "execution_count": 18,
   "id": "820478c6",
   "metadata": {
    "execution": {
     "iopub.execute_input": "2021-10-12T12:04:08.150454Z",
     "iopub.status.busy": "2021-10-12T12:04:08.149805Z",
     "iopub.status.idle": "2021-10-12T12:04:08.425044Z",
     "shell.execute_reply": "2021-10-12T12:04:08.425614Z",
     "shell.execute_reply.started": "2021-10-12T12:00:06.148605Z"
    },
    "papermill": {
     "duration": 0.353702,
     "end_time": "2021-10-12T12:04:08.425799",
     "exception": false,
     "start_time": "2021-10-12T12:04:08.072097",
     "status": "completed"
    },
    "tags": []
   },
   "outputs": [
    {
     "data": {
      "text/plain": [
       "Text(0, 0.5, 'Frequency')"
      ]
     },
     "execution_count": 18,
     "metadata": {},
     "output_type": "execute_result"
    },
    {
     "data": {
      "image/png": "[encoded data removed]",
      "text/plain": [
       "<Figure size 864x432 with 1 Axes>"
      ]
     },
     "metadata": {
      "needs_background": "light"
     },
     "output_type": "display_data"
    }
   ],
   "source": [
    "plt.figure(figsize=(12, 6))\n",
    "train['country_destination'].value_counts().plot(kind='bar')\n",
    "plt.xlabel('countries sums')\n",
    "plt.ylabel('Frequency')"
   ]
  },
  {
   "cell_type": "code",
   "execution_count": 19,
   "id": "46009d94",
   "metadata": {
    "execution": {
     "iopub.execute_input": "2021-10-12T12:04:08.538775Z",
     "iopub.status.busy": "2021-10-12T12:04:08.537775Z",
     "iopub.status.idle": "2021-10-12T12:04:08.817375Z",
     "shell.execute_reply": "2021-10-12T12:04:08.817897Z",
     "shell.execute_reply.started": "2021-10-12T12:00:06.408529Z"
    },
    "papermill": {
     "duration": 0.337011,
     "end_time": "2021-10-12T12:04:08.818064",
     "exception": false,
     "start_time": "2021-10-12T12:04:08.481053",
     "status": "completed"
    },
    "tags": []
   },
   "outputs": [
    {
     "data": {
      "image/png": "[encoded data removed]",
      "text/plain": [
       "<Figure size 864x432 with 1 Axes>"
      ]
     },
     "metadata": {
      "needs_background": "light"
     },
     "output_type": "display_data"
    }
   ],
   "source": [
    "train['month'] = train['date_first_booking'].dt.month\n",
    "plt.figure(figsize=(12, 6))\n",
    "train['month'].value_counts().plot(kind='bar')\n",
    "plt.title('frequencies of reservations / number of month')\n",
    "plt.xlabel(' number of month')\n",
    "plt.ylabel('Frequency')\n",
    "plt.show()"
   ]
  },
  {
   "cell_type": "code",
   "execution_count": 20,
   "id": "d425be82",
   "metadata": {
    "execution": {
     "iopub.execute_input": "2021-10-12T12:04:08.954780Z",
     "iopub.status.busy": "2021-10-12T12:04:08.954023Z",
     "iopub.status.idle": "2021-10-12T12:04:09.318389Z",
     "shell.execute_reply": "2021-10-12T12:04:09.318905Z",
     "shell.execute_reply.started": "2021-10-12T12:00:06.663960Z"
    },
    "papermill": {
     "duration": 0.444039,
     "end_time": "2021-10-12T12:04:09.319088",
     "exception": false,
     "start_time": "2021-10-12T12:04:08.875049",
     "status": "completed"
    },
    "tags": []
   },
   "outputs": [
    {
     "data": {
      "text/plain": [
       "Text(0, 0.5, 'Frequency')"
      ]
     },
     "execution_count": 20,
     "metadata": {},
     "output_type": "execute_result"
    },
    {
     "data": {
      "image/png": "[encoded data removed]",
      "text/plain": [
       "<Figure size 864x432 with 1 Axes>"
      ]
     },
     "metadata": {
      "needs_background": "light"
     },
     "output_type": "display_data"
    }
   ],
   "source": [
    "plt.figure(figsize=(12, 6))\n",
    "train['language'].value_counts().plot(kind='bar')\n",
    "plt.title('frequencies of reservations / languages')\n",
    "plt.xlabel('langue')\n",
    "plt.ylabel('Frequency')"
   ]
  },
  {
   "cell_type": "code",
   "execution_count": 21,
   "id": "f41fce26",
   "metadata": {
    "execution": {
     "iopub.execute_input": "2021-10-12T12:04:09.432500Z",
     "iopub.status.busy": "2021-10-12T12:04:09.431882Z",
     "iopub.status.idle": "2021-10-12T12:04:10.132849Z",
     "shell.execute_reply": "2021-10-12T12:04:10.132333Z",
     "shell.execute_reply.started": "2021-10-12T12:00:07.011633Z"
    },
    "papermill": {
     "duration": 0.758599,
     "end_time": "2021-10-12T12:04:10.132999",
     "exception": false,
     "start_time": "2021-10-12T12:04:09.374400",
     "status": "completed"
    },
    "tags": []
   },
   "outputs": [
    {
     "data": {
      "image/png": "[encoded data removed]",
      "text/plain": [
       "<Figure size 864x432 with 1 Axes>"
      ]
     },
     "metadata": {
      "needs_background": "light"
     },
     "output_type": "display_data"
    }
   ],
   "source": [
    "plt.figure(figsize=(12, 6))\n",
    "sns.countplot(x='country_destination', hue='gender', data=train)\n",
    "plt.title('# of Travellers to countries and their genders')\n",
    "plt.show()"
   ]
  },
  {
   "cell_type": "code",
   "execution_count": 22,
   "id": "fb4933e9",
   "metadata": {
    "execution": {
     "iopub.execute_input": "2021-10-12T12:04:10.279037Z",
     "iopub.status.busy": "2021-10-12T12:04:10.272038Z",
     "iopub.status.idle": "2021-10-12T12:04:10.888590Z",
     "shell.execute_reply": "2021-10-12T12:04:10.889259Z",
     "shell.execute_reply.started": "2021-10-12T12:00:07.517687Z"
    },
    "papermill": {
     "duration": 0.70047,
     "end_time": "2021-10-12T12:04:10.889478",
     "exception": false,
     "start_time": "2021-10-12T12:04:10.189008",
     "status": "completed"
    },
    "tags": []
   },
   "outputs": [
    {
     "data": {
      "image/png": "[encoded data removed]",
      "text/plain": [
       "<Figure size 864x432 with 1 Axes>"
      ]
     },
     "metadata": {
      "needs_background": "light"
     },
     "output_type": "display_data"
    }
   ],
   "source": [
    "plt.figure(figsize=(12, 6))\n",
    "sns.countplot(x='country_destination', hue='signup_method', data=train)\n",
    "plt.title('# of Travellers to countries and their signup method')\n",
    "plt.show()"
   ]
  },
  {
   "cell_type": "code",
   "execution_count": 23,
   "id": "7a12d6c9",
   "metadata": {
    "execution": {
     "iopub.execute_input": "2021-10-12T12:04:11.007651Z",
     "iopub.status.busy": "2021-10-12T12:04:11.006973Z",
     "iopub.status.idle": "2021-10-12T12:04:11.891173Z",
     "shell.execute_reply": "2021-10-12T12:04:11.891751Z",
     "shell.execute_reply.started": "2021-10-12T12:00:08.000159Z"
    },
    "papermill": {
     "duration": 0.945263,
     "end_time": "2021-10-12T12:04:11.891926",
     "exception": false,
     "start_time": "2021-10-12T12:04:10.946663",
     "status": "completed"
    },
    "tags": []
   },
   "outputs": [
    {
     "data": {
      "image/png": "[encoded data removed]",
      "text/plain": [
       "<Figure size 1296x648 with 1 Axes>"
      ]
     },
     "metadata": {
      "needs_background": "light"
     },
     "output_type": "display_data"
    }
   ],
   "source": [
    "plt.figure(figsize=(18, 9))\n",
    "sns.countplot(x='country_destination', hue='month', data=train)\n",
    "plt.title('# of Travellers to each country by month')\n",
    "plt.show()"
   ]
  },
  {
   "cell_type": "code",
   "execution_count": 24,
   "id": "a3ea0e58",
   "metadata": {
    "execution": {
     "iopub.execute_input": "2021-10-12T12:04:12.011918Z",
     "iopub.status.busy": "2021-10-12T12:04:12.011240Z",
     "iopub.status.idle": "2021-10-12T12:04:13.136797Z",
     "shell.execute_reply": "2021-10-12T12:04:13.137294Z",
     "shell.execute_reply.started": "2021-10-12T12:00:08.745099Z"
    },
    "papermill": {
     "duration": 1.187442,
     "end_time": "2021-10-12T12:04:13.137635",
     "exception": false,
     "start_time": "2021-10-12T12:04:11.950193",
     "status": "completed"
    },
    "tags": []
   },
   "outputs": [
    {
     "data": {
      "image/png": "[encoded data removed]",
      "text/plain": [
       "<Figure size 864x432 with 1 Axes>"
      ]
     },
     "metadata": {
      "needs_background": "light"
     },
     "output_type": "display_data"
    }
   ],
   "source": [
    "plt.figure(figsize=(12, 6))\n",
    "sns.countplot(x='first_affiliate_tracked',data=train,hue='country_destination')\n",
    "plt.title('# of first affiliate tracked by countries')\n",
    "plt.show()"
   ]
  },
  {
   "cell_type": "code",
   "execution_count": 25,
   "id": "302ea671",
   "metadata": {
    "execution": {
     "iopub.execute_input": "2021-10-12T12:04:13.260132Z",
     "iopub.status.busy": "2021-10-12T12:04:13.259484Z",
     "iopub.status.idle": "2021-10-12T12:04:13.603144Z",
     "shell.execute_reply": "2021-10-12T12:04:13.603624Z",
     "shell.execute_reply.started": "2021-10-12T12:00:09.455601Z"
    },
    "papermill": {
     "duration": 0.406447,
     "end_time": "2021-10-12T12:04:13.603802",
     "exception": false,
     "start_time": "2021-10-12T12:04:13.197355",
     "status": "completed"
    },
    "tags": []
   },
   "outputs": [
    {
     "data": {
      "image/png": "[encoded data removed]",
      "text/plain": [
       "<Figure size 864x432 with 1 Axes>"
      ]
     },
     "metadata": {
      "needs_background": "light"
     },
     "output_type": "display_data"
    }
   ],
   "source": [
    "plt.figure(figsize=(12, 6))\n",
    "sns.countplot(x='country_destination', hue='signup_method', data=train[train['country_destination']=='US'])\n",
    "plt.title('# of Travellers to USA')\n",
    "plt.show()"
   ]
  },
  {
   "cell_type": "code",
   "execution_count": 26,
   "id": "7a4a351d",
   "metadata": {
    "execution": {
     "iopub.execute_input": "2021-10-12T12:04:13.730371Z",
     "iopub.status.busy": "2021-10-12T12:04:13.729718Z",
     "iopub.status.idle": "2021-10-12T12:04:14.094603Z",
     "shell.execute_reply": "2021-10-12T12:04:14.095128Z",
     "shell.execute_reply.started": "2021-10-12T12:00:09.730635Z"
    },
    "papermill": {
     "duration": 0.429333,
     "end_time": "2021-10-12T12:04:14.095303",
     "exception": false,
     "start_time": "2021-10-12T12:04:13.665970",
     "status": "completed"
    },
    "tags": []
   },
   "outputs": [
    {
     "data": {
      "image/png": "[encoded data removed]",
      "text/plain": [
       "<Figure size 864x432 with 1 Axes>"
      ]
     },
     "metadata": {
      "needs_background": "light"
     },
     "output_type": "display_data"
    }
   ],
   "source": [
    "plt.figure(figsize=(12, 6))\n",
    "sns.countplot(x='country_destination', hue='gender', data=train[train['country_destination']=='US'])\n",
    "plt.title('# of Travellers to USA')\n",
    "plt.show()"
   ]
  },
  {
   "cell_type": "code",
   "execution_count": 27,
   "id": "158bbfb2",
   "metadata": {
    "execution": {
     "iopub.execute_input": "2021-10-12T12:04:14.221773Z",
     "iopub.status.busy": "2021-10-12T12:04:14.221108Z",
     "iopub.status.idle": "2021-10-12T12:04:14.857410Z",
     "shell.execute_reply": "2021-10-12T12:04:14.857905Z",
     "shell.execute_reply.started": "2021-10-12T12:00:10.022624Z"
    },
    "papermill": {
     "duration": 0.700406,
     "end_time": "2021-10-12T12:04:14.858077",
     "exception": false,
     "start_time": "2021-10-12T12:04:14.157671",
     "status": "completed"
    },
    "tags": []
   },
   "outputs": [
    {
     "data": {
      "image/png": "[encoded data removed]",
      "text/plain": [
       "<Figure size 864x432 with 1 Axes>"
      ]
     },
     "metadata": {
      "needs_background": "light"
     },
     "output_type": "display_data"
    }
   ],
   "source": [
    "plt.figure(figsize=(12, 6))\n",
    "sns.countplot(x='country_destination', hue='language', data=train[train['country_destination']=='US'])\n",
    "plt.title('# of Travellers to USA')\n",
    "plt.show()"
   ]
  },
  {
   "cell_type": "code",
   "execution_count": 28,
   "id": "3c182994",
   "metadata": {
    "execution": {
     "iopub.execute_input": "2021-10-12T12:04:15.007798Z",
     "iopub.status.busy": "2021-10-12T12:04:15.007131Z",
     "iopub.status.idle": "2021-10-12T12:04:15.348293Z",
     "shell.execute_reply": "2021-10-12T12:04:15.347740Z",
     "shell.execute_reply.started": "2021-10-12T12:00:10.492549Z"
    },
    "papermill": {
     "duration": 0.428484,
     "end_time": "2021-10-12T12:04:15.348432",
     "exception": false,
     "start_time": "2021-10-12T12:04:14.919948",
     "status": "completed"
    },
    "tags": []
   },
   "outputs": [
    {
     "data": {
      "image/png": "[encoded data removed]",
      "text/plain": [
       "<Figure size 864x432 with 1 Axes>"
      ]
     },
     "metadata": {
      "needs_background": "light"
     },
     "output_type": "display_data"
    }
   ],
   "source": [
    "plt.figure(figsize=(12, 6))\n",
    "sns.countplot(x='country_destination', hue='signup_method', data=train[train['country_destination']=='NDF'])\n",
    "plt.title('# of Travellers to USA')\n",
    "plt.show()"
   ]
  },
  {
   "cell_type": "code",
   "execution_count": 29,
   "id": "5896629a",
   "metadata": {
    "execution": {
     "iopub.execute_input": "2021-10-12T12:04:15.478023Z",
     "iopub.status.busy": "2021-10-12T12:04:15.477386Z",
     "iopub.status.idle": "2021-10-12T12:04:15.855042Z",
     "shell.execute_reply": "2021-10-12T12:04:15.854489Z",
     "shell.execute_reply.started": "2021-10-12T12:00:10.787160Z"
    },
    "papermill": {
     "duration": 0.443505,
     "end_time": "2021-10-12T12:04:15.855192",
     "exception": false,
     "start_time": "2021-10-12T12:04:15.411687",
     "status": "completed"
    },
    "tags": []
   },
   "outputs": [
    {
     "data": {
      "image/png": "[encoded data removed]",
      "text/plain": [
       "<Figure size 864x432 with 1 Axes>"
      ]
     },
     "metadata": {
      "needs_background": "light"
     },
     "output_type": "display_data"
    }
   ],
   "source": [
    "plt.figure(figsize=(12, 6))\n",
    "sns.countplot(x='country_destination', hue='gender', data=train[train['country_destination']=='NDF'])\n",
    "plt.title('# of Travellers to NDF')\n",
    "plt.show()"
   ]
  },
  {
   "cell_type": "code",
   "execution_count": 30,
   "id": "26e0fd76",
   "metadata": {
    "execution": {
     "iopub.execute_input": "2021-10-12T12:04:16.009226Z",
     "iopub.status.busy": "2021-10-12T12:04:16.008574Z",
     "iopub.status.idle": "2021-10-12T12:04:16.717295Z",
     "shell.execute_reply": "2021-10-12T12:04:16.716765Z",
     "shell.execute_reply.started": "2021-10-12T12:00:11.093224Z"
    },
    "papermill": {
     "duration": 0.798146,
     "end_time": "2021-10-12T12:04:16.717453",
     "exception": false,
     "start_time": "2021-10-12T12:04:15.919307",
     "status": "completed"
    },
    "tags": []
   },
   "outputs": [
    {
     "data": {
      "image/png": "[encoded data removed]",
      "text/plain": [
       "<Figure size 864x432 with 1 Axes>"
      ]
     },
     "metadata": {
      "needs_background": "light"
     },
     "output_type": "display_data"
    }
   ],
   "source": [
    "plt.figure(figsize=(12, 6))\n",
    "sns.countplot(x='country_destination', hue='language', data=train[train['country_destination']=='NDF'])\n",
    "plt.title('# of Travellers to NDF')\n",
    "plt.show()"
   ]
  },
  {
   "cell_type": "markdown",
   "id": "0ba9fc65",
   "metadata": {
    "papermill": {
     "duration": 0.064374,
     "end_time": "2021-10-12T12:04:16.846259",
     "exception": false,
     "start_time": "2021-10-12T12:04:16.781885",
     "status": "completed"
    },
    "tags": []
   },
   "source": [
    "**Preprocessing**"
   ]
  },
  {
   "cell_type": "code",
   "execution_count": 31,
   "id": "d7ef979c",
   "metadata": {
    "execution": {
     "iopub.execute_input": "2021-10-12T12:04:16.979743Z",
     "iopub.status.busy": "2021-10-12T12:04:16.979061Z",
     "iopub.status.idle": "2021-10-12T12:04:17.136430Z",
     "shell.execute_reply": "2021-10-12T12:04:17.136922Z",
     "shell.execute_reply.started": "2021-10-12T12:00:11.617891Z"
    },
    "papermill": {
     "duration": 0.226305,
     "end_time": "2021-10-12T12:04:17.137098",
     "exception": false,
     "start_time": "2021-10-12T12:04:16.910793",
     "status": "completed"
    },
    "tags": []
   },
   "outputs": [
    {
     "name": "stdout",
     "output_type": "stream",
     "text": [
      "        gender   age signup_method language affiliate_channel  \\\n",
      "1            0  38.0      facebook       en               seo   \n",
      "2            1  56.0         basic       en            direct   \n",
      "3            1  42.0      facebook       en            direct   \n",
      "4            3  41.0         basic       en            direct   \n",
      "6            1  46.0         basic       en             other   \n",
      "...        ...   ...           ...      ...               ...   \n",
      "213441       1  34.0         basic       en            direct   \n",
      "213443       1  36.0         basic       en         sem-brand   \n",
      "213445       1  23.0         basic       en         sem-brand   \n",
      "213446       0  32.0         basic       en         sem-brand   \n",
      "213448       3  32.0         basic       en            direct   \n",
      "\n",
      "       affiliate_provider country_destination  month  \n",
      "1                  google                 NDF    NaN  \n",
      "2                  direct                  US    8.0  \n",
      "3                  direct               other    9.0  \n",
      "4                  direct                  US    2.0  \n",
      "6              craigslist                  US    1.0  \n",
      "...                   ...                 ...    ...  \n",
      "213441             direct                  ES    8.0  \n",
      "213443             google                  US    7.0  \n",
      "213445             google                  US    7.0  \n",
      "213446             google                 NDF    NaN  \n",
      "213448             direct                 NDF    NaN  \n",
      "\n",
      "[121353 rows x 8 columns]\n"
     ]
    }
   ],
   "source": [
    "sex = {'MALE': 0,'FEMALE': 1, 'OTHER': 2, '-unknown-':3}\n",
    "train.gender = [sex[item] for item in train.gender]\n",
    "test.gender = [sex[item] for item in test.gender]\n",
    "\n",
    "train.drop(['id','date_first_booking', 'date_account_created', 'timestamp_first_active','signup_app', 'first_device_type', 'first_browser', 'first_affiliate_tracked', 'signup_flow'],axis=1,inplace=True)\n",
    "test.drop(['id','date_first_booking', 'date_account_created',  'timestamp_first_active','signup_app', 'first_device_type', 'first_browser', 'first_affiliate_tracked'],axis=1,inplace=True)\n",
    "\n",
    "print(train)"
   ]
  },
  {
   "cell_type": "markdown",
   "id": "0744483a",
   "metadata": {
    "papermill": {
     "duration": 0.063916,
     "end_time": "2021-10-12T12:04:17.265666",
     "exception": false,
     "start_time": "2021-10-12T12:04:17.201750",
     "status": "completed"
    },
    "tags": []
   },
   "source": [
    "**the features that will help the model**"
   ]
  },
  {
   "cell_type": "code",
   "execution_count": 32,
   "id": "89f34b3c",
   "metadata": {
    "execution": {
     "iopub.execute_input": "2021-10-12T12:04:17.400327Z",
     "iopub.status.busy": "2021-10-12T12:04:17.399309Z",
     "iopub.status.idle": "2021-10-12T12:04:17.401327Z",
     "shell.execute_reply": "2021-10-12T12:04:17.401944Z",
     "shell.execute_reply.started": "2021-10-12T12:00:11.729458Z"
    },
    "papermill": {
     "duration": 0.071868,
     "end_time": "2021-10-12T12:04:17.402110",
     "exception": false,
     "start_time": "2021-10-12T12:04:17.330242",
     "status": "completed"
    },
    "tags": []
   },
   "outputs": [],
   "source": [
    "Features = ['gender', 'language','signup_method','affiliate_channel','month', 'age']"
   ]
  },
  {
   "cell_type": "code",
   "execution_count": 33,
   "id": "7d0e1964",
   "metadata": {
    "execution": {
     "iopub.execute_input": "2021-10-12T12:04:17.536640Z",
     "iopub.status.busy": "2021-10-12T12:04:17.535690Z",
     "iopub.status.idle": "2021-10-12T12:04:17.666094Z",
     "shell.execute_reply": "2021-10-12T12:04:17.665236Z",
     "shell.execute_reply.started": "2021-10-12T12:00:11.736314Z"
    },
    "papermill": {
     "duration": 0.199239,
     "end_time": "2021-10-12T12:04:17.666248",
     "exception": false,
     "start_time": "2021-10-12T12:04:17.467009",
     "status": "completed"
    },
    "tags": []
   },
   "outputs": [],
   "source": [
    "from sklearn.preprocessing import LabelEncoder\n",
    "encoder=LabelEncoder()"
   ]
  },
  {
   "cell_type": "markdown",
   "id": "b46e5479",
   "metadata": {
    "papermill": {
     "duration": 0.064644,
     "end_time": "2021-10-12T12:04:17.795959",
     "exception": false,
     "start_time": "2021-10-12T12:04:17.731315",
     "status": "completed"
    },
    "tags": []
   },
   "source": [
    "lable encoder to transform string data into numerical"
   ]
  },
  {
   "cell_type": "code",
   "execution_count": 34,
   "id": "28bb593b",
   "metadata": {
    "execution": {
     "iopub.execute_input": "2021-10-12T12:04:17.933056Z",
     "iopub.status.busy": "2021-10-12T12:04:17.932325Z",
     "iopub.status.idle": "2021-10-12T12:04:18.103900Z",
     "shell.execute_reply": "2021-10-12T12:04:18.103358Z",
     "shell.execute_reply.started": "2021-10-12T12:00:11.747961Z"
    },
    "papermill": {
     "duration": 0.24326,
     "end_time": "2021-10-12T12:04:18.104048",
     "exception": false,
     "start_time": "2021-10-12T12:04:17.860788",
     "status": "completed"
    },
    "tags": []
   },
   "outputs": [],
   "source": [
    "from sklearn.preprocessing import LabelEncoder\n",
    "\n",
    "le = LabelEncoder()\n",
    "\n",
    "train[Features] = train[Features].apply(lambda col: le.fit_transform(col))"
   ]
  },
  {
   "cell_type": "code",
   "execution_count": 35,
   "id": "5aace019",
   "metadata": {
    "execution": {
     "iopub.execute_input": "2021-10-12T12:04:18.246282Z",
     "iopub.status.busy": "2021-10-12T12:04:18.245584Z",
     "iopub.status.idle": "2021-10-12T12:04:18.249427Z",
     "shell.execute_reply": "2021-10-12T12:04:18.249920Z",
     "shell.execute_reply.started": "2021-10-12T12:00:11.865460Z"
    },
    "papermill": {
     "duration": 0.08063,
     "end_time": "2021-10-12T12:04:18.250094",
     "exception": false,
     "start_time": "2021-10-12T12:04:18.169464",
     "status": "completed"
    },
    "tags": []
   },
   "outputs": [
    {
     "data": {
      "text/html": [
       "<div>\n",
       "<style scoped>\n",
       "    .dataframe tbody tr th:only-of-type {\n",
       "        vertical-align: middle;\n",
       "    }\n",
       "\n",
       "    .dataframe tbody tr th {\n",
       "        vertical-align: top;\n",
       "    }\n",
       "\n",
       "    .dataframe thead th {\n",
       "        text-align: right;\n",
       "    }\n",
       "</style>\n",
       "<table border=\"1\" class=\"dataframe\">\n",
       "  <thead>\n",
       "    <tr style=\"text-align: right;\">\n",
       "      <th></th>\n",
       "      <th>gender</th>\n",
       "      <th>age</th>\n",
       "      <th>signup_method</th>\n",
       "      <th>language</th>\n",
       "      <th>affiliate_channel</th>\n",
       "      <th>affiliate_provider</th>\n",
       "      <th>country_destination</th>\n",
       "      <th>month</th>\n",
       "    </tr>\n",
       "  </thead>\n",
       "  <tbody>\n",
       "    <tr>\n",
       "      <th>1</th>\n",
       "      <td>0</td>\n",
       "      <td>23</td>\n",
       "      <td>1</td>\n",
       "      <td>5</td>\n",
       "      <td>7</td>\n",
       "      <td>google</td>\n",
       "      <td>NDF</td>\n",
       "      <td>17154</td>\n",
       "    </tr>\n",
       "    <tr>\n",
       "      <th>2</th>\n",
       "      <td>1</td>\n",
       "      <td>41</td>\n",
       "      <td>0</td>\n",
       "      <td>5</td>\n",
       "      <td>2</td>\n",
       "      <td>direct</td>\n",
       "      <td>US</td>\n",
       "      <td>7</td>\n",
       "    </tr>\n",
       "    <tr>\n",
       "      <th>3</th>\n",
       "      <td>1</td>\n",
       "      <td>27</td>\n",
       "      <td>1</td>\n",
       "      <td>5</td>\n",
       "      <td>2</td>\n",
       "      <td>direct</td>\n",
       "      <td>other</td>\n",
       "      <td>8</td>\n",
       "    </tr>\n",
       "    <tr>\n",
       "      <th>4</th>\n",
       "      <td>3</td>\n",
       "      <td>26</td>\n",
       "      <td>0</td>\n",
       "      <td>5</td>\n",
       "      <td>2</td>\n",
       "      <td>direct</td>\n",
       "      <td>US</td>\n",
       "      <td>1</td>\n",
       "    </tr>\n",
       "    <tr>\n",
       "      <th>6</th>\n",
       "      <td>1</td>\n",
       "      <td>31</td>\n",
       "      <td>0</td>\n",
       "      <td>5</td>\n",
       "      <td>3</td>\n",
       "      <td>craigslist</td>\n",
       "      <td>US</td>\n",
       "      <td>0</td>\n",
       "    </tr>\n",
       "  </tbody>\n",
       "</table>\n",
       "</div>"
      ],
      "text/plain": [
       "   gender  age  signup_method  language  affiliate_channel affiliate_provider  \\\n",
       "1       0   23              1         5                  7             google   \n",
       "2       1   41              0         5                  2             direct   \n",
       "3       1   27              1         5                  2             direct   \n",
       "4       3   26              0         5                  2             direct   \n",
       "6       1   31              0         5                  3         craigslist   \n",
       "\n",
       "  country_destination  month  \n",
       "1                 NDF  17154  \n",
       "2                  US      7  \n",
       "3               other      8  \n",
       "4                  US      1  \n",
       "6                  US      0  "
      ]
     },
     "execution_count": 35,
     "metadata": {},
     "output_type": "execute_result"
    }
   ],
   "source": [
    "train.head()"
   ]
  },
  {
   "cell_type": "code",
   "execution_count": 36,
   "id": "5aa0d110",
   "metadata": {
    "execution": {
     "iopub.execute_input": "2021-10-12T12:04:18.384818Z",
     "iopub.status.busy": "2021-10-12T12:04:18.384106Z",
     "iopub.status.idle": "2021-10-12T12:04:18.392793Z",
     "shell.execute_reply": "2021-10-12T12:04:18.393275Z",
     "shell.execute_reply.started": "2021-10-12T12:00:11.878211Z"
    },
    "papermill": {
     "duration": 0.077649,
     "end_time": "2021-10-12T12:04:18.393458",
     "exception": false,
     "start_time": "2021-10-12T12:04:18.315809",
     "status": "completed"
    },
    "tags": []
   },
   "outputs": [],
   "source": [
    "x=train[Features]\n",
    "y=train['country_destination']"
   ]
  },
  {
   "cell_type": "markdown",
   "id": "33d00ee9",
   "metadata": {
    "papermill": {
     "duration": 0.065869,
     "end_time": "2021-10-12T12:04:18.526776",
     "exception": false,
     "start_time": "2021-10-12T12:04:18.460907",
     "status": "completed"
    },
    "tags": []
   },
   "source": [
    "**downsampling**"
   ]
  },
  {
   "cell_type": "code",
   "execution_count": 37,
   "id": "2b73a43f",
   "metadata": {
    "execution": {
     "iopub.execute_input": "2021-10-12T12:04:18.660457Z",
     "iopub.status.busy": "2021-10-12T12:04:18.659845Z",
     "iopub.status.idle": "2021-10-12T12:04:18.735972Z",
     "shell.execute_reply": "2021-10-12T12:04:18.736424Z",
     "shell.execute_reply.started": "2021-10-12T12:02:22.279004Z"
    },
    "papermill": {
     "duration": 0.144581,
     "end_time": "2021-10-12T12:04:18.736615",
     "exception": false,
     "start_time": "2021-10-12T12:04:18.592034",
     "status": "completed"
    },
    "tags": []
   },
   "outputs": [
    {
     "name": "stdout",
     "output_type": "stream",
     "text": [
      "<class 'pandas.core.frame.DataFrame'>\n",
      "Int64Index: 47254 entries, 212142 to 213445\n",
      "Data columns (total 8 columns):\n",
      " #   Column               Non-Null Count  Dtype \n",
      "---  ------               --------------  ----- \n",
      " 0   gender               47254 non-null  int64 \n",
      " 1   age                  47254 non-null  int64 \n",
      " 2   signup_method        47254 non-null  int64 \n",
      " 3   language             47254 non-null  int64 \n",
      " 4   affiliate_channel    47254 non-null  int64 \n",
      " 5   affiliate_provider   47254 non-null  object\n",
      " 6   country_destination  47254 non-null  object\n",
      " 7   month                47254 non-null  int64 \n",
      "dtypes: int64(6), object(2)\n",
      "memory usage: 3.2+ MB\n"
     ]
    }
   ],
   "source": [
    "from sklearn.utils import resample\n",
    "# Separate majority and minority classes\n",
    "df_majority = train[train.country_destination=='NDF']\n",
    "df_minority = train[train.country_destination=='US']\n",
    "\n",
    " \n",
    "# Downsample majority class\n",
    "df_majority_downsampled = resample(df_majority, \n",
    "                                 replace=False,    # sample without replacement\n",
    "                                 n_samples=49,     # to match minority class\n",
    "                                 random_state=123) # reproducible results\n",
    " \n",
    "# Combine minority class with downsampled majority class\n",
    "train = pd.concat([df_majority_downsampled, df_minority])\n",
    " \n",
    "train.info()"
   ]
  },
  {
   "cell_type": "markdown",
   "id": "3b55f2ce",
   "metadata": {
    "papermill": {
     "duration": 0.065784,
     "end_time": "2021-10-12T12:04:18.868434",
     "exception": false,
     "start_time": "2021-10-12T12:04:18.802650",
     "status": "completed"
    },
    "tags": []
   },
   "source": [
    "**spliting train data into test and train data**"
   ]
  },
  {
   "cell_type": "code",
   "execution_count": 38,
   "id": "00d4a7ba",
   "metadata": {
    "execution": {
     "iopub.execute_input": "2021-10-12T12:04:19.002669Z",
     "iopub.status.busy": "2021-10-12T12:04:19.002019Z",
     "iopub.status.idle": "2021-10-12T12:04:19.072846Z",
     "shell.execute_reply": "2021-10-12T12:04:19.072101Z",
     "shell.execute_reply.started": "2021-10-12T12:00:11.962552Z"
    },
    "papermill": {
     "duration": 0.139037,
     "end_time": "2021-10-12T12:04:19.072990",
     "exception": false,
     "start_time": "2021-10-12T12:04:18.933953",
     "status": "completed"
    },
    "tags": []
   },
   "outputs": [],
   "source": [
    "from sklearn.model_selection import train_test_split\n",
    "x_train, x_test, y_train, y_test = train_test_split(x, y, test_size=0.3, random_state=42)"
   ]
  },
  {
   "cell_type": "markdown",
   "id": "6ee206a2",
   "metadata": {
    "papermill": {
     "duration": 0.066357,
     "end_time": "2021-10-12T12:04:19.206491",
     "exception": false,
     "start_time": "2021-10-12T12:04:19.140134",
     "status": "completed"
    },
    "tags": []
   },
   "source": [
    "**inserting random forest**"
   ]
  },
  {
   "cell_type": "code",
   "execution_count": 39,
   "id": "e162109d",
   "metadata": {
    "execution": {
     "iopub.execute_input": "2021-10-12T12:04:19.345746Z",
     "iopub.status.busy": "2021-10-12T12:04:19.344801Z",
     "iopub.status.idle": "2021-10-12T12:04:19.536395Z",
     "shell.execute_reply": "2021-10-12T12:04:19.535840Z",
     "shell.execute_reply.started": "2021-10-12T12:00:11.984028Z"
    },
    "papermill": {
     "duration": 0.261932,
     "end_time": "2021-10-12T12:04:19.536556",
     "exception": false,
     "start_time": "2021-10-12T12:04:19.274624",
     "status": "completed"
    },
    "tags": []
   },
   "outputs": [],
   "source": [
    "from sklearn.ensemble import RandomForestClassifier\n",
    "rfc=RandomForestClassifier()"
   ]
  },
  {
   "cell_type": "markdown",
   "id": "320e065a",
   "metadata": {
    "papermill": {
     "duration": 0.067415,
     "end_time": "2021-10-12T12:04:19.669675",
     "exception": false,
     "start_time": "2021-10-12T12:04:19.602260",
     "status": "completed"
    },
    "tags": []
   },
   "source": [
    "**Applying Random Forest and calculating score**"
   ]
  },
  {
   "cell_type": "code",
   "execution_count": 40,
   "id": "3032c8bc",
   "metadata": {
    "execution": {
     "iopub.execute_input": "2021-10-12T12:04:19.807787Z",
     "iopub.status.busy": "2021-10-12T12:04:19.807086Z",
     "iopub.status.idle": "2021-10-12T12:04:27.014044Z",
     "shell.execute_reply": "2021-10-12T12:04:27.013395Z",
     "shell.execute_reply.started": "2021-10-12T12:00:11.989114Z"
    },
    "papermill": {
     "duration": 7.27888,
     "end_time": "2021-10-12T12:04:27.014195",
     "exception": false,
     "start_time": "2021-10-12T12:04:19.735315",
     "status": "completed"
    },
    "tags": []
   },
   "outputs": [
    {
     "name": "stdout",
     "output_type": "stream",
     "text": [
      "82.01395374388837\n"
     ]
    }
   ],
   "source": [
    "rfc.fit(x_train,y_train)\n",
    "Y_pred =rfc.predict(x_test)\n",
    "score = rfc.score(x_test, y_test)\n",
    "print(score*100)"
   ]
  },
  {
   "cell_type": "code",
   "execution_count": null,
   "id": "3c113aa1",
   "metadata": {
    "papermill": {
     "duration": 0.06682,
     "end_time": "2021-10-12T12:04:27.167505",
     "exception": false,
     "start_time": "2021-10-12T12:04:27.100685",
     "status": "completed"
    },
    "tags": []
   },
   "outputs": [],
   "source": []
  },
  {
   "cell_type": "code",
   "execution_count": null,
   "id": "4d5cc44a",
   "metadata": {
    "papermill": {
     "duration": 0.074588,
     "end_time": "2021-10-12T12:04:27.317586",
     "exception": false,
     "start_time": "2021-10-12T12:04:27.242998",
     "status": "completed"
    },
    "tags": []
   },
   "outputs": [],
   "source": []
  },
  {
   "cell_type": "code",
   "execution_count": null,
   "id": "2ed8385d",
   "metadata": {
    "papermill": {
     "duration": 0.0724,
     "end_time": "2021-10-12T12:04:27.461059",
     "exception": false,
     "start_time": "2021-10-12T12:04:27.388659",
     "status": "completed"
    },
    "tags": []
   },
   "outputs": [],
   "source": []
  },
  {
   "cell_type": "code",
   "execution_count": null,
   "id": "198f8013",
   "metadata": {
    "papermill": {
     "duration": 0.071784,
     "end_time": "2021-10-12T12:04:27.606558",
     "exception": false,
     "start_time": "2021-10-12T12:04:27.534774",
     "status": "completed"
    },
    "tags": []
   },
   "outputs": [],
   "source": []
  },
  {
   "cell_type": "code",
   "execution_count": null,
   "id": "c434c1f3",
   "metadata": {
    "papermill": {
     "duration": 0.070766,
     "end_time": "2021-10-12T12:04:27.747065",
     "exception": false,
     "start_time": "2021-10-12T12:04:27.676299",
     "status": "completed"
    },
    "tags": []
   },
   "outputs": [],
   "source": []
  },
  {
   "cell_type": "code",
   "execution_count": null,
   "id": "9de7428c",
   "metadata": {
    "papermill": {
     "duration": 0.06569,
     "end_time": "2021-10-12T12:04:27.883690",
     "exception": false,
     "start_time": "2021-10-12T12:04:27.818000",
     "status": "completed"
    },
    "tags": []
   },
   "outputs": [],
   "source": []
  },
  {
   "cell_type": "code",
   "execution_count": null,
   "id": "273bd4fb",
   "metadata": {
    "papermill": {
     "duration": 0.065502,
     "end_time": "2021-10-12T12:04:28.015255",
     "exception": false,
     "start_time": "2021-10-12T12:04:27.949753",
     "status": "completed"
    },
    "tags": []
   },
   "outputs": [],
   "source": []
  },
  {
   "cell_type": "code",
   "execution_count": null,
   "id": "cc98a499",
   "metadata": {
    "papermill": {
     "duration": 0.065835,
     "end_time": "2021-10-12T12:04:28.147860",
     "exception": false,
     "start_time": "2021-10-12T12:04:28.082025",
     "status": "completed"
    },
    "tags": []
   },
   "outputs": [],
   "source": []
  },
  {
   "cell_type": "code",
   "execution_count": null,
   "id": "27163d74",
   "metadata": {
    "papermill": {
     "duration": 0.065328,
     "end_time": "2021-10-12T12:04:28.278738",
     "exception": false,
     "start_time": "2021-10-12T12:04:28.213410",
     "status": "completed"
    },
    "tags": []
   },
   "outputs": [],
   "source": []
  },
  {
   "cell_type": "code",
   "execution_count": null,
   "id": "29b1651e",
   "metadata": {
    "papermill": {
     "duration": 0.066586,
     "end_time": "2021-10-12T12:04:28.411130",
     "exception": false,
     "start_time": "2021-10-12T12:04:28.344544",
     "status": "completed"
    },
    "tags": []
   },
   "outputs": [],
   "source": []
  },
  {
   "cell_type": "code",
   "execution_count": null,
   "id": "060edeb7",
   "metadata": {
    "papermill": {
     "duration": 0.066133,
     "end_time": "2021-10-12T12:04:28.543302",
     "exception": false,
     "start_time": "2021-10-12T12:04:28.477169",
     "status": "completed"
    },
    "tags": []
   },
   "outputs": [],
   "source": []
  }
 ],
 "metadata": {
  "kernelspec": {
   "display_name": "Python 3",
   "language": "python",
   "name": "python3"
  },
  "language_info": {
   "codemirror_mode": {
    "name": "ipython",
    "version": 3
   },
   "file_extension": ".py",
   "mimetype": "text/x-python",
   "name": "python",
   "nbconvert_exporter": "python",
   "pygments_lexer": "ipython3",
   "version": "3.7.10"
  },
  "papermill": {
   "default_parameters": {},
   "duration": 39.694947,
   "end_time": "2021-10-12T12:04:29.318708",
   "environment_variables": {},
   "exception": null,
   "input_path": "__notebook__.ipynb",
   "output_path": "__notebook__.ipynb",
   "parameters": {},
   "start_time": "2021-10-12T12:03:49.623761",
   "version": "2.3.3"
  }
 },
 "nbformat": 4,
 "nbformat_minor": 5
}
